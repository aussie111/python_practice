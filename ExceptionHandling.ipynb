{
 "cells": [
  {
   "cell_type": "code",
   "execution_count": 2,
   "id": "35c7bda5-c703-4f05-aa59-333b7d8b404d",
   "metadata": {},
   "outputs": [
    {
     "name": "stdin",
     "output_type": "stream",
     "text": [
      "Enter the value of a:  s\n"
     ]
    },
    {
     "name": "stdout",
     "output_type": "stream",
     "text": [
      "Enter an integer\n"
     ]
    },
    {
     "name": "stdin",
     "output_type": "stream",
     "text": [
      "Enter the value of a:  s\n"
     ]
    },
    {
     "name": "stdout",
     "output_type": "stream",
     "text": [
      "Enter an integer\n"
     ]
    },
    {
     "name": "stdin",
     "output_type": "stream",
     "text": [
      "Enter the value of a:  s\n"
     ]
    },
    {
     "name": "stdout",
     "output_type": "stream",
     "text": [
      "Enter an integer\n"
     ]
    },
    {
     "name": "stdin",
     "output_type": "stream",
     "text": [
      "Enter the value of a:  s\n"
     ]
    },
    {
     "name": "stdout",
     "output_type": "stream",
     "text": [
      "Enter an integer\n"
     ]
    },
    {
     "name": "stdin",
     "output_type": "stream",
     "text": [
      "Enter the value of a:  s\n"
     ]
    },
    {
     "name": "stdout",
     "output_type": "stream",
     "text": [
      "Enter an integer\n"
     ]
    },
    {
     "name": "stdin",
     "output_type": "stream",
     "text": [
      "Enter the value of a:  s\n"
     ]
    },
    {
     "name": "stdout",
     "output_type": "stream",
     "text": [
      "Enter an integer\n"
     ]
    },
    {
     "name": "stdin",
     "output_type": "stream",
     "text": [
      "Enter the value of a:  s\n"
     ]
    },
    {
     "name": "stdout",
     "output_type": "stream",
     "text": [
      "Enter an integer\n"
     ]
    },
    {
     "name": "stdin",
     "output_type": "stream",
     "text": [
      "Enter the value of a:  ss\n"
     ]
    },
    {
     "name": "stdout",
     "output_type": "stream",
     "text": [
      "Enter an integer\n"
     ]
    },
    {
     "name": "stdin",
     "output_type": "stream",
     "text": [
      "Enter the value of a:  \n"
     ]
    },
    {
     "name": "stdout",
     "output_type": "stream",
     "text": [
      "Enter an integer\n"
     ]
    },
    {
     "name": "stdin",
     "output_type": "stream",
     "text": [
      "Enter the value of a:  s\n"
     ]
    },
    {
     "name": "stdout",
     "output_type": "stream",
     "text": [
      "Enter an integer\n"
     ]
    },
    {
     "name": "stdin",
     "output_type": "stream",
     "text": [
      "Enter the value of a:  \n"
     ]
    },
    {
     "name": "stdout",
     "output_type": "stream",
     "text": [
      "Enter an integer\n"
     ]
    },
    {
     "name": "stdin",
     "output_type": "stream",
     "text": [
      "Enter the value of a:  \n"
     ]
    },
    {
     "name": "stdout",
     "output_type": "stream",
     "text": [
      "Enter an integer\n"
     ]
    },
    {
     "name": "stdin",
     "output_type": "stream",
     "text": [
      "Enter the value of a:  32\n",
      "Enter the value of b:  s\n"
     ]
    },
    {
     "name": "stdout",
     "output_type": "stream",
     "text": [
      "Enter an integer\n"
     ]
    },
    {
     "name": "stdin",
     "output_type": "stream",
     "text": [
      "Enter the value of a:  s\n"
     ]
    },
    {
     "name": "stdout",
     "output_type": "stream",
     "text": [
      "Enter an integer\n"
     ]
    },
    {
     "name": "stdin",
     "output_type": "stream",
     "text": [
      "Enter the value of a:  s\n"
     ]
    },
    {
     "name": "stdout",
     "output_type": "stream",
     "text": [
      "Enter an integer\n"
     ]
    },
    {
     "name": "stdin",
     "output_type": "stream",
     "text": [
      "Enter the value of a:  2\n",
      "Enter the value of b:  234\n"
     ]
    }
   ],
   "source": [
    "while True:\n",
    "    try:\n",
    "        a = int(input(\"Enter the value of a: \"))\n",
    "        b = int(input(\"Enter the value of b: \"))\n",
    "        break\n",
    "    except:\n",
    "        print(\"Enter an integer\")"
   ]
  },
  {
   "cell_type": "code",
   "execution_count": 5,
   "id": "cd7b96e0-e279-4822-a448-570c066fc364",
   "metadata": {},
   "outputs": [
    {
     "name": "stdout",
     "output_type": "stream",
     "text": [
      "File is already there\n"
     ]
    }
   ],
   "source": [
    "try:\n",
    "    file = open('file.txt', 'x')\n",
    "    file.close()\n",
    "except:\n",
    "    print(\"File is already there\")\n",
    "    "
   ]
  },
  {
   "cell_type": "code",
   "execution_count": 18,
   "id": "e54d4b88-892c-4991-8d43-e92befd9d3cd",
   "metadata": {},
   "outputs": [
    {
     "name": "stdin",
     "output_type": "stream",
     "text": [
      "Enter a value:  10\n",
      "Enter the value:  0\n"
     ]
    },
    {
     "name": "stdout",
     "output_type": "stream",
     "text": [
      "The error is division by zero \n"
     ]
    }
   ],
   "source": [
    "try:\n",
    "    a = int(input(\"Enter a value: \" ))\n",
    "    b = int(input(\"Enter the value: \"))\n",
    "    c = a/b\n",
    "\n",
    "except ValueError as vd:\n",
    "    print(\"Enter only integer\", vd)\n",
    "    \n",
    "except ZeroDivisionError as zd:\n",
    "    print(f\"The error is {zd} \")\n",
    "    \n",
    "else:\n",
    "    print(c)\n",
    "\n",
    "    "
   ]
  },
  {
   "cell_type": "code",
   "execution_count": 15,
   "id": "0a2fb028-ac08-4dd1-b3d2-0ddb515322f3",
   "metadata": {},
   "outputs": [
    {
     "name": "stdin",
     "output_type": "stream",
     "text": [
      "Enter age:  1\n"
     ]
    }
   ],
   "source": [
    "age = input(\"Enter age: \")\n",
    "if int(age)>10:\n",
    "    raise Exception(\"Age must be less than 10 \")"
   ]
  },
  {
   "cell_type": "code",
   "execution_count": 19,
   "id": "4ebd88c1-4e1a-44f5-a09e-2b76ac590cd3",
   "metadata": {},
   "outputs": [
    {
     "name": "stdout",
     "output_type": "stream",
     "text": [
      "4294967196\n",
      "<class 'int'>\n"
     ]
    }
   ],
   "source": [
    "\n"
   ]
  },
  {
   "cell_type": "code",
   "execution_count": 22,
   "id": "8221aa1d-17ff-4f1c-823a-deb7e0a78e36",
   "metadata": {},
   "outputs": [],
   "source": [
    "## assert statement\n"
   ]
  },
  {
   "cell_type": "code",
   "execution_count": 29,
   "id": "20b3878e-09d1-49d7-8ae0-485eed1b055f",
   "metadata": {},
   "outputs": [
    {
     "name": "stdin",
     "output_type": "stream",
     "text": [
      "Enter the age 24523\n"
     ]
    },
    {
     "name": "stdout",
     "output_type": "stream",
     "text": [
      "Welcome\n"
     ]
    }
   ],
   "source": [
    "try:\n",
    "    age = int(input(\"Enter the age\" ))\n",
    "    assert age>=20\n",
    "except:\n",
    "    print(\"You are under 20\")\n",
    "else:\n",
    "    print(f\"Welcome\")\n",
    "    "
   ]
  },
  {
   "cell_type": "code",
   "execution_count": null,
   "id": "7e4b91fd-180a-426e-acc8-17810dc23263",
   "metadata": {},
   "outputs": [],
   "source": []
  },
  {
   "cell_type": "code",
   "execution_count": 68,
   "id": "c0749c48-a979-489c-b1dc-2b2eb4a8b220",
   "metadata": {},
   "outputs": [
    {
     "name": "stdin",
     "output_type": "stream",
     "text": [
      "Enter the username aa\n",
      "Enter the password s\n"
     ]
    },
    {
     "name": "stdout",
     "output_type": "stream",
     "text": [
      "Invalid Username and password  \n"
     ]
    },
    {
     "name": "stdin",
     "output_type": "stream",
     "text": [
      "Enter the username s\n",
      "Enter the password sd\n"
     ]
    },
    {
     "name": "stdout",
     "output_type": "stream",
     "text": [
      "Invalid Username and password  \n"
     ]
    },
    {
     "name": "stdin",
     "output_type": "stream",
     "text": [
      "Enter the username \n",
      "Enter the password s\n"
     ]
    },
    {
     "name": "stdout",
     "output_type": "stream",
     "text": [
      "Invalid Username and password  \n"
     ]
    },
    {
     "name": "stdin",
     "output_type": "stream",
     "text": [
      "Enter the username s\n",
      "Enter the password \n"
     ]
    },
    {
     "name": "stdout",
     "output_type": "stream",
     "text": [
      "Invalid Username and password  \n"
     ]
    },
    {
     "name": "stdin",
     "output_type": "stream",
     "text": [
      "Enter the username admin\n",
      "Enter the password admin\n"
     ]
    },
    {
     "name": "stdout",
     "output_type": "stream",
     "text": [
      "logged in successful\n",
      "5\n"
     ]
    }
   ],
   "source": [
    "\n",
    "username1 = \"admin\"\n",
    "password1 = \"admin\"\n",
    "\n",
    "\n",
    "def login(count):\n",
    "    try:\n",
    "        username = input(\"Enter the username\")\n",
    "        password = input(\"Enter the password\")\n",
    "        assert username == username1 and password == password1\n",
    "    \n",
    "    except AssertionError as ad:\n",
    "        print(\"Invalid Username and password \", ad)\n",
    "        count = count + 1\n",
    "        return login(count)\n",
    "    \n",
    "    else:\n",
    "        print(\"logged in successful\")\n",
    "    return count\n",
    "\n",
    "\n",
    "x = login(1)\n",
    "print(x)\n"
   ]
  },
  {
   "cell_type": "code",
   "execution_count": 67,
   "id": "3ebe05b7-44d2-4629-8567-b0ecff0fe0ec",
   "metadata": {},
   "outputs": [
    {
     "name": "stdin",
     "output_type": "stream",
     "text": [
      "Enter the username adms\n",
      "Enter the password ss\n"
     ]
    },
    {
     "name": "stdout",
     "output_type": "stream",
     "text": [
      "Invalid Username and password \n"
     ]
    },
    {
     "name": "stdin",
     "output_type": "stream",
     "text": [
      "Enter the username ss\n",
      "Enter the password s\n"
     ]
    },
    {
     "name": "stdout",
     "output_type": "stream",
     "text": [
      "Invalid Username and password \n"
     ]
    },
    {
     "name": "stdin",
     "output_type": "stream",
     "text": [
      "Enter the username \n",
      "Enter the password s\n"
     ]
    },
    {
     "name": "stdout",
     "output_type": "stream",
     "text": [
      "Invalid Username and password \n"
     ]
    },
    {
     "name": "stdin",
     "output_type": "stream",
     "text": [
      "Enter the username s\n",
      "Enter the password s\n"
     ]
    },
    {
     "name": "stdout",
     "output_type": "stream",
     "text": [
      "Invalid Username and password \n"
     ]
    },
    {
     "name": "stdin",
     "output_type": "stream",
     "text": [
      "Enter the username s\n",
      "Enter the password s\n"
     ]
    },
    {
     "name": "stdout",
     "output_type": "stream",
     "text": [
      "Invalid Username and password \n"
     ]
    },
    {
     "name": "stdin",
     "output_type": "stream",
     "text": [
      "Enter the username \n",
      "Enter the password ad'a\n"
     ]
    },
    {
     "name": "stdout",
     "output_type": "stream",
     "text": [
      "Invalid Username and password \n"
     ]
    },
    {
     "name": "stdin",
     "output_type": "stream",
     "text": [
      "Enter the username admin\n",
      "Enter the password admin\n"
     ]
    },
    {
     "name": "stdout",
     "output_type": "stream",
     "text": [
      "logged in successful\n",
      "No of count 7\n"
     ]
    }
   ],
   "source": [
    "\n",
    "username1 = \"admin\"\n",
    "password1 = \"admin\"\n",
    "\n",
    "count = 1\n",
    "\n",
    "def login():\n",
    "    try:\n",
    "        global count\n",
    "        username = input(\"Enter the username\")\n",
    "        password = input(\"Enter the password\")\n",
    "        assert username == username1 and password == password1\n",
    "    \n",
    "    except AssertionError:\n",
    "        print(\"Invalid Username and password \")\n",
    "        count = count + 1 \n",
    "        login()\n",
    "    \n",
    "    else:\n",
    "        print(\"logged in successful\")\n",
    "        print(\"No of count\", count)\n",
    "        \n",
    "\n",
    "\n",
    "\n",
    "login()"
   ]
  },
  {
   "cell_type": "code",
   "execution_count": null,
   "id": "36bf5c00-c177-4b8f-aa95-73ba211723be",
   "metadata": {},
   "outputs": [],
   "source": []
  }
 ],
 "metadata": {
  "kernelspec": {
   "display_name": "Python 3 (ipykernel)",
   "language": "python",
   "name": "python3"
  },
  "language_info": {
   "codemirror_mode": {
    "name": "ipython",
    "version": 3
   },
   "file_extension": ".py",
   "mimetype": "text/x-python",
   "name": "python",
   "nbconvert_exporter": "python",
   "pygments_lexer": "ipython3",
   "version": "3.12.0"
  }
 },
 "nbformat": 4,
 "nbformat_minor": 5
}
