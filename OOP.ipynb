{
 "cells": [
  {
   "cell_type": "code",
   "execution_count": 3,
   "id": "3affb870-2ab1-4a49-a077-d622eae1b793",
   "metadata": {},
   "outputs": [
    {
     "name": "stdout",
     "output_type": "stream",
     "text": [
      "Hello World\n"
     ]
    }
   ],
   "source": [
    "class Hello:\n",
    "    def hello(self):\n",
    "        print(\"Hello World\")\n",
    "\n",
    "h = Hello()\n",
    "h.hello()"
   ]
  },
  {
   "cell_type": "code",
   "execution_count": 17,
   "id": "72d050db-63c7-4b65-8dca-7df51c46e788",
   "metadata": {},
   "outputs": [
    {
     "name": "stdout",
     "output_type": "stream",
     "text": [
      "Derived Class Constructor\n",
      "<__main__.Entity object at 0x000001F5AE7C8710>\n",
      "<__main__.Entity object at 0x000001F5AE7C8710>\n",
      "I am Entity\n",
      "I am Derived\n"
     ]
    }
   ],
   "source": [
    "class Entity:\n",
    "    @staticmethod\n",
    "    def __init__(name):\n",
    "        name = name\n",
    "    @staticmethod\n",
    "    def printEntity():\n",
    "        print(\"I am Entity\")\n",
    "\n",
    "class DerviedClass(Entity):\n",
    "    @staticmethod\n",
    "    def __init__():\n",
    "        print(\"Derived Class Constructor\")\n",
    "    @staticmethod\n",
    "    def PrintDerived():\n",
    "        print(\"I am Derived\")\n",
    "E = Entity(\"Entity ko naam\")\n",
    "D = DerviedClass()\n",
    "print(E.__str__())\n",
    "print(E.__repr__())\n",
    "E.printEntity()\n",
    "D.PrintDerived()"
   ]
  },
  {
   "cell_type": "code",
   "execution_count": 18,
   "id": "ef47f40a-d9f4-4f58-b5eb-b5c3705e16de",
   "metadata": {},
   "outputs": [
    {
     "name": "stdin",
     "output_type": "stream",
     "text": [
      "Enter the value of l =  10\n",
      "Enter the value of b =  20\n"
     ]
    },
    {
     "name": "stdout",
     "output_type": "stream",
     "text": [
      "Volume = 2000\n"
     ]
    }
   ],
   "source": [
    "class Cal: \n",
    "    def volume(self, h):\n",
    "        l = int(input(\"Enter the value of l = \"))\n",
    "        b = int(input(\"Enter the value of b = \"))\n",
    "        v = l * b * h \n",
    "        print(f\"Volume = {v}\")\n",
    "newObj = Cal()\n",
    "newObj.volume(10)"
   ]
  },
  {
   "cell_type": "code",
   "execution_count": 27,
   "id": "8f00d37d-22b3-4991-bc58-215e9a94b6ea",
   "metadata": {},
   "outputs": [
    {
     "name": "stdin",
     "output_type": "stream",
     "text": [
      "Enter the value of x =  1\n",
      "Enter the value of y =  2\n",
      "Enter the value of z =  3\n"
     ]
    },
    {
     "name": "stdout",
     "output_type": "stream",
     "text": [
      "6\n"
     ]
    }
   ],
   "source": [
    "class Cal:\n",
    "    def __init__(self):\n",
    "        self.x = int(input(\"Enter the value of x = \"))\n",
    "        self.y = int(input(\"Enter the value of y = \"))\n",
    "        self.z = int(input(\"Enter the value of z = \"))\n",
    "    def Volume(self):\n",
    "        return (self.x * self.y * self.z)\n",
    "\n",
    "c = Cal()\n",
    "print(c.Volume())"
   ]
  },
  {
   "cell_type": "code",
   "execution_count": 4,
   "id": "b6a1d32b-8dfb-4266-a3f7-7c7dd6ce368d",
   "metadata": {},
   "outputs": [
    {
     "name": "stdout",
     "output_type": "stream",
     "text": [
      "30.0\n"
     ]
    }
   ],
   "source": [
    "class Entity:\n",
    "    def __init__(self):\n",
    "        self.x = \"10\"\n",
    "    def __str__(self):\n",
    "        return self.x\n",
    "    def __add__(self, b):\n",
    "        return float(self.x) + b\n",
    "        \n",
    "E = Entity()\n",
    "print(E + 20)"
   ]
  },
  {
   "cell_type": "code",
   "execution_count": 7,
   "id": "20a5c8a9-00e5-4d1d-bf12-0355dd4d64e1",
   "metadata": {},
   "outputs": [
    {
     "name": "stdout",
     "output_type": "stream",
     "text": [
      "apple\n"
     ]
    }
   ],
   "source": [
    "class Entity:\n",
    "    def __init__(self, name):\n",
    "        self.name = name\n",
    "    def __repr__(self):\n",
    "        return self.name\n",
    "E = Entity(\"apple\")\n",
    "print(E)"
   ]
  },
  {
   "cell_type": "code",
   "execution_count": 10,
   "id": "edc25939-bd8a-4dbc-bc19-d49bfda8e31d",
   "metadata": {},
   "outputs": [
    {
     "name": "stdout",
     "output_type": "stream",
     "text": [
      "Hello World I am Ram 23 Kathmandu\n"
     ]
    }
   ],
   "source": [
    "class Data:\n",
    "    def __init__(self):\n",
    "        self.name = \"Ram\"\n",
    "        self.age = 23\n",
    "        self.add = \"Kathmandu\"\n",
    "    def data(self):\n",
    "        print(self.name, self.age, self.add)\n",
    "        \n",
    "class Info(Data):\n",
    "    def info(self):\n",
    "        print(f\"Hello World I am {self.name} {self.age} {self.add}\")\n",
    "\n",
    "obj1 = Info()\n",
    "obj.info()\n",
    "        "
   ]
  },
  {
   "cell_type": "code",
   "execution_count": 15,
   "id": "b127529f-a36b-4412-b9ce-682e171588d9",
   "metadata": {},
   "outputs": [
    {
     "name": "stdout",
     "output_type": "stream",
     "text": [
      "constructor of parent class\n"
     ]
    }
   ],
   "source": [
    "class ParentClass:\n",
    "    def __init__(self):\n",
    "        print(\"constructor of parent class\")\n",
    "class DerivedClass(ParentClass):\n",
    "    def __init__(self):\n",
    "        print(\"This is derived class\")\n",
    "d = DerivedClass()"
   ]
  },
  {
   "cell_type": "code",
   "execution_count": 17,
   "id": "3b70281a-de72-49d9-83ad-27030820e51d",
   "metadata": {},
   "outputs": [
    {
     "data": {
      "text/plain": [
       "8"
      ]
     },
     "execution_count": 17,
     "metadata": {},
     "output_type": "execute_result"
    }
   ],
   "source": [
    "def sum(a, b):\n",
    "    return a + b\n",
    "def sum(a, b,  c):\n",
    "    return a + b + c\n",
    "sum(1, 3, 4)"
   ]
  },
  {
   "cell_type": "code",
   "execution_count": 21,
   "id": "934700ab-1833-493d-b9d4-6c30fc04abd6",
   "metadata": {},
   "outputs": [
    {
     "name": "stdout",
     "output_type": "stream",
     "text": [
      "In parent\n",
      "Hello World I am Ram 23 Kathmandu\n",
      "In parent\n"
     ]
    }
   ],
   "source": [
    "class Data:\n",
    "    def __init__(self):\n",
    "        self.name = \"Ram\"\n",
    "        self.age = 23\n",
    "        self.add = \"Kathmandu\"\n",
    "        print(\"In parent\")\n",
    "    def data(self):\n",
    "        print(self.name, self.age, self.add)\n",
    "        \n",
    "class Info(Data):\n",
    "    def info(self):\n",
    "        \n",
    "        print(f\"Hello World I am {self.name} {self.age} {self.add}\")\n",
    "        Data.__init__(self)\n",
    "\n",
    "obj1 = Info()\n",
    "obj1.info()"
   ]
  },
  {
   "cell_type": "code",
   "execution_count": 24,
   "id": "3d9ba200-999d-4d28-a0fb-a94fdfe15a9c",
   "metadata": {},
   "outputs": [
    {
     "name": "stdin",
     "output_type": "stream",
     "text": [
      "Enter the name  dipesh\n",
      "Enter the age 22\n",
      "Enter the address 33\n"
     ]
    },
    {
     "name": "stdout",
     "output_type": "stream",
     "text": [
      "Hello World I am dipesh. I am from 33. I am 22\n",
      "33\n"
     ]
    }
   ],
   "source": [
    "class Data:\n",
    "    def __init__(self, add):\n",
    "        self.add = add\n",
    "    def data(self):\n",
    "        print(self.add)\n",
    "class Info(Data):\n",
    "    def __init__(self, name, age, add):\n",
    "        self.name = name\n",
    "        self.age = age\n",
    "        Data.__init__(self, add)\n",
    "    def info(self):\n",
    "        print(f\"Hello World I am {self.name}. I am from {self.add}. I am {self.age}\")\n",
    "\n",
    "name = input(\"Enter the name \")\n",
    "age = int(input(\"Enter the age\"))\n",
    "add = input(\"Enter the address\")\n",
    "\n",
    "obj = Info(name, age, add)\n",
    "obj.info()\n",
    "obj.data()"
   ]
  },
  {
   "cell_type": "code",
   "execution_count": 35,
   "id": "0dc0f1cb-ba8c-4957-8b88-99f18953ded0",
   "metadata": {},
   "outputs": [
    {
     "name": "stdout",
     "output_type": "stream",
     "text": [
      "Hello World I am Dipesh, I am from Kathmandu 10\n",
      "Kathmandu\n",
      "10\n"
     ]
    }
   ],
   "source": [
    "class Age:\n",
    "    def __init__(self, age):\n",
    "        self.age = age\n",
    "    def my_age(self):\n",
    "        print(self.age)\n",
    "class Data(Age):\n",
    "    def __init__(self, age, add):\n",
    "        self.add = add\n",
    "        Age.__init__(self, age)\n",
    "    def data(self):\n",
    "        print(self.add)\n",
    "class Info(Data):\n",
    "    def __init__(self, name, age, add):\n",
    "        self.name = name\n",
    "        Data.__init__(self, age, add)\n",
    "    def info(self):\n",
    "        print(f\"Hello World I am {self.name}, I am from {self.add} {self.age}\")\n",
    "\n",
    "i = Info(\"Dipesh\", 10, \"Kathmandu\")\n",
    "i.info()\n",
    "i.data()\n",
    "i.my_age()"
   ]
  },
  {
   "cell_type": "code",
   "execution_count": 42,
   "id": "44c341a0-72d7-4e56-ac71-6c58f29ce192",
   "metadata": {},
   "outputs": [
    {
     "name": "stdin",
     "output_type": "stream",
     "text": [
      "Enter an integer:  f\n"
     ]
    },
    {
     "name": "stdout",
     "output_type": "stream",
     "text": [
      "invalid literal for int() with base 10: 'f'\n"
     ]
    }
   ],
   "source": [
    "try: \n"
   ]
  },
  {
   "cell_type": "code",
   "execution_count": 43,
   "id": "83fc55e0-3773-4ae6-ac9e-ce7840946c79",
   "metadata": {},
   "outputs": [
    {
     "name": "stdout",
     "output_type": "stream",
     "text": [
      "No module named 'apple'\n"
     ]
    }
   ],
   "source": [
    "try: \n",
    "    import apple\n",
    "    x = int(input(\"Enter an integer: \"))\n",
    "\n",
    "except ImportError as I:\n",
    "    print(I)\n",
    "\n",
    "except ValueError as v:\n",
    "    print(v)"
   ]
  },
  {
   "cell_type": "code",
   "execution_count": 2,
   "id": "7b47e1d6-d365-478a-8cbf-4c83ebe23de6",
   "metadata": {},
   "outputs": [
    {
     "name": "stdout",
     "output_type": "stream",
     "text": [
      "constructor Derived\n",
      "Constructor base\n",
      "age = 10\n"
     ]
    }
   ],
   "source": [
    "class Base1:\n",
    "    def __init__(self):\n",
    "        self.age = 10\n",
    "        print(\"Constructor base\")\n",
    "    def print(self):\n",
    "        print(f\"age = {self.age}\")\n",
    "class Derived(Base1):\n",
    "    def __init__(self):\n",
    "        self.age = 20\n",
    "        \n",
    "        print(\"constructor Derived\")\n",
    "        super().__init__()\n",
    "        super().print()\n",
    "\n",
    "d  = Derived()"
   ]
  },
  {
   "cell_type": "code",
   "execution_count": 1,
   "id": "411a2b92-bce3-494d-a99c-9a62c9b3746c",
   "metadata": {},
   "outputs": [],
   "source": [
    "#meta programming is a code that manipulates code \n",
    "def hello():\n",
    "    class Hi:\n",
    "        pass\n",
    "    return Hi\n",
    "    "
   ]
  },
  {
   "cell_type": "code",
   "execution_count": 2,
   "id": "ddc9c4ed-dbe7-49b7-9f42-e42e727cd0e8",
   "metadata": {},
   "outputs": [
    {
     "data": {
      "text/plain": [
       "'C:\\\\Users\\\\dipes\\\\Desktop\\\\Django_With_Python\\\\python_practice'"
      ]
     },
     "execution_count": 2,
     "metadata": {},
     "output_type": "execute_result"
    }
   ],
   "source": [
    "pwd\n"
   ]
  },
  {
   "cell_type": "code",
   "execution_count": null,
   "id": "71350c7f-6298-48ce-b4cc-bfab56c79976",
   "metadata": {},
   "outputs": [],
   "source": []
  }
 ],
 "metadata": {
  "kernelspec": {
   "display_name": "Python 3 (ipykernel)",
   "language": "python",
   "name": "python3"
  },
  "language_info": {
   "codemirror_mode": {
    "name": "ipython",
    "version": 3
   },
   "file_extension": ".py",
   "mimetype": "text/x-python",
   "name": "python",
   "nbconvert_exporter": "python",
   "pygments_lexer": "ipython3",
   "version": "3.12.0"
  }
 },
 "nbformat": 4,
 "nbformat_minor": 5
}
