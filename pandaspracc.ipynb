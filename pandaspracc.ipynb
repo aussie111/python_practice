{
 "cells": [
  {
   "cell_type": "code",
   "execution_count": 1,
   "id": "72a4069e-19c3-47aa-a9e9-a462f58d68e4",
   "metadata": {},
   "outputs": [
    {
     "name": "stdout",
     "output_type": "stream",
     "text": [
      "     Name   Age      Add\n",
      "0  Dipesh    23  Kalanki\n",
      "1   Regmi    32     Khai\n",
      "2  Prames    45    apple\n"
     ]
    }
   ],
   "source": [
    "import pandas as pd\n",
    "df = pd.read_csv(\"newfile.csv\")\n",
    "print(df)"
   ]
  },
  {
   "cell_type": "code",
   "execution_count": 3,
   "id": "c6aaaa3e-a7b5-47c3-87a8-689a5d8cfaa5",
   "metadata": {},
   "outputs": [
    {
     "name": "stdout",
     "output_type": "stream",
     "text": [
      "     Name   Age      Add\n",
      "0  Dipesh    23  Kalanki\n",
      "1   Regmi    32     Khai\n"
     ]
    }
   ],
   "source": [
    "import pandas as pd\n",
    "df = pd.read_csv(\"newfile.csv\", nrows = 2)\n",
    "print(df)"
   ]
  },
  {
   "cell_type": "code",
   "execution_count": 4,
   "id": "864c703d-953b-45ed-991f-6c6b3ae2c59e",
   "metadata": {},
   "outputs": [
    {
     "name": "stdout",
     "output_type": "stream",
     "text": [
      "     Name   Age      Add\n",
      "0  Dipesh    23  Kalanki\n",
      "1   Regmi    32     Khai\n"
     ]
    }
   ],
   "source": [
    "import pandas as pd\n",
    "df = pd.read_csv(\"newfile.csv\")\n",
    "print(df.head(2))"
   ]
  },
  {
   "cell_type": "code",
   "execution_count": 5,
   "id": "3bee5a90-d4be-47f2-a20b-85a01bb62205",
   "metadata": {},
   "outputs": [
    {
     "name": "stdout",
     "output_type": "stream",
     "text": [
      "     Name   Age    Add\n",
      "2  Prames    45  apple\n"
     ]
    }
   ],
   "source": [
    "import pandas as pd\n",
    "df = pd.read_csv(\"newfile.csv\")\n",
    "print(df.iloc[2:3])"
   ]
  },
  {
   "cell_type": "code",
   "execution_count": 10,
   "id": "073e9faf-fabe-4d99-89e6-40d6911f27f5",
   "metadata": {},
   "outputs": [
    {
     "name": "stdout",
     "output_type": "stream",
     "text": [
      "23\n"
     ]
    }
   ],
   "source": [
    "import pandas as pd\n",
    "df = pd.read_csv(\"newfile.csv\", usecols = ['Name', ' Age'])\n",
    "df.set_index('Name', inplace = True)\n",
    "dipesh_age = df.loc['Dipesh', ' Age']\n",
    "print(dipesh_age)"
   ]
  },
  {
   "cell_type": "code",
   "execution_count": 13,
   "id": "24b7b4d7-e18a-46c7-8c60-2284fce6f17b",
   "metadata": {},
   "outputs": [
    {
     "name": "stdout",
     "output_type": "stream",
     "text": [
      "Dipesh\n"
     ]
    }
   ],
   "source": [
    "import pandas as pd\n",
    "df = pd.read_csv(\"newfile.csv\", usecols = ['Name', ' Age'])\n",
    "df.set_index(' Age', inplace = True)\n",
    "dipesh_name = df.loc[23, 'Name']\n",
    "print(dipesh_name)"
   ]
  },
  {
   "cell_type": "code",
   "execution_count": 15,
   "id": "bdb79499-741e-4baf-98a1-a58cb2651568",
   "metadata": {},
   "outputs": [
    {
     "name": "stdout",
     "output_type": "stream",
     "text": [
      "32\n"
     ]
    },
    {
     "name": "stderr",
     "output_type": "stream",
     "text": [
      "C:\\Users\\dipes\\AppData\\Local\\Temp\\ipykernel_31112\\2859852865.py:3: FutureWarning: Series.__getitem__ treating keys as positions is deprecated. In a future version, integer keys will always be treated as labels (consistent with DataFrame behavior). To access a value by position, use `ser.iloc[pos]`\n",
      "  uiloc = df.iloc[1][1]\n"
     ]
    }
   ],
   "source": [
    "import pandas as pd\n",
    "df = pd.read_csv(\"newfile.csv\", usecols = ['Name', ' Age'])\n",
    "uiloc = df.iloc[1][1]\n",
    "print(uiloc)"
   ]
  },
  {
   "cell_type": "code",
   "execution_count": null,
   "id": "e97ee113-c656-4f0c-ba70-46df22dd89e1",
   "metadata": {},
   "outputs": [],
   "source": []
  }
 ],
 "metadata": {
  "kernelspec": {
   "display_name": "Python 3 (ipykernel)",
   "language": "python",
   "name": "python3"
  },
  "language_info": {
   "codemirror_mode": {
    "name": "ipython",
    "version": 3
   },
   "file_extension": ".py",
   "mimetype": "text/x-python",
   "name": "python",
   "nbconvert_exporter": "python",
   "pygments_lexer": "ipython3",
   "version": "3.12.0"
  }
 },
 "nbformat": 4,
 "nbformat_minor": 5
}
